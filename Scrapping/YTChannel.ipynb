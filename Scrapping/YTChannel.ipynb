{
 "cells": [
  {
   "cell_type": "code",
   "execution_count": 2,
   "id": "d0f7e31d-e8cf-4931-8d79-3e387ee1f9e8",
   "metadata": {},
   "outputs": [],
   "source": [
    "from bs4 import BeautifulSoup\n",
    "from selenium import webdriver\n",
    "from chromedriver_binary import chromedriver_filename\n",
    "from selenium.webdriver.chrome.service import Service\n",
    "import pandas as pd\n"
   ]
  },
  {
   "cell_type": "code",
   "execution_count": null,
   "id": "d06d3ff9-392f-451b-bbb0-528c55d02377",
   "metadata": {},
   "outputs": [],
   "source": [
    "path = chromedriver_filename\n",
    "print(path)\n",
    "service=Service(chromedriver_filename)\n",
    "driver = webdriver.Chrome(service=service)\n",
    "driver.get('https://www.youtube.com/c/GeeksforGeeksVideos/videos')\n",
    "soup = BeautifulSoup(driver.page_source,'html.parser')\n"
   ]
  },
  {
   "cell_type": "code",
   "execution_count": 6,
   "id": "f2d3bca7-f24a-42f5-a690-a60fe1f363a1",
   "metadata": {},
   "outputs": [
    {
     "name": "stdout",
     "output_type": "stream",
     "text": [
      "File created ✅\n"
     ]
    }
   ],
   "source": [
    "data = []\n",
    "# Correct loop: loop over ytd-rich-item-renderer\n",
    "for sp in soup.find_all('ytd-rich-item-renderer'):\n",
    "    try:\n",
    "        title = sp.find('a', class_=\"yt-simple-endpoint focus-on-expand style-scope ytd-rich-grid-media\").get('title')\n",
    "    except:\n",
    "        title = None\n",
    "    try:\n",
    "        link = sp.find('a', class_=\"yt-simple-endpoint focus-on-expand style-scope ytd-rich-grid-media\").get('href')\n",
    "        if link:\n",
    "            link = \"https://www.youtube.com\" + link\n",
    "    except:\n",
    "        link = None\n",
    "    try:\n",
    "        views = sp.find('span', class_=\"inline-metadata-item style-scope ytd-video-meta-block\").text\n",
    "    except:\n",
    "        views = None\n",
    "    try:\n",
    "        thumbnail = sp.find('img').get('src')\n",
    "    except:\n",
    "        thumbnail = None\n",
    "    data.append([title, views, link, thumbnail])\n",
    "\n",
    "df = pd.DataFrame(data, columns=['title', 'views', 'video_link', 'thumbnail_link'])\n",
    "df.to_csv('YtChannel.csv', index=False)\n",
    "print(\"File created ✅\")\n"
   ]
  },
  {
   "cell_type": "code",
   "execution_count": null,
   "id": "2f50dafe-5e20-4c31-87d2-aa3243d6461d",
   "metadata": {},
   "outputs": [],
   "source": []
  },
  {
   "cell_type": "code",
   "execution_count": null,
   "id": "58e4c516-b02e-4cfa-bd9b-6c0185482d82",
   "metadata": {},
   "outputs": [],
   "source": []
  }
 ],
 "metadata": {
  "kernelspec": {
   "display_name": "Python 3 (ipykernel)",
   "language": "python",
   "name": "python3"
  },
  "language_info": {
   "codemirror_mode": {
    "name": "ipython",
    "version": 3
   },
   "file_extension": ".py",
   "mimetype": "text/x-python",
   "name": "python",
   "nbconvert_exporter": "python",
   "pygments_lexer": "ipython3",
   "version": "3.13.5"
  }
 },
 "nbformat": 4,
 "nbformat_minor": 5
}
