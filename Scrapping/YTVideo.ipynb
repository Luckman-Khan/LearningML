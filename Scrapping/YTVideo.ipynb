{
 "cells": [
  {
   "cell_type": "code",
   "execution_count": 8,
   "id": "9145d3b7-1e2b-4e62-9b08-91608d114ebf",
   "metadata": {},
   "outputs": [],
   "source": [
    "from bs4 import BeautifulSoup\n",
    "from selenium import webdriver\n",
    "from chromedriver_binary import chromedriver_filename\n",
    "from selenium.webdriver.chrome.service import Service\n",
    "import pandas as pd\n",
    "import time\n",
    "from tqdm import tqdm\n",
    "import numpy as np\n",
    "from webdriver_manager.chrome import ChromeDriverManager\n"
   ]
  },
  {
   "cell_type": "code",
   "execution_count": 9,
   "id": "74932d13-50d8-43b0-b675-68df379ff1e1",
   "metadata": {},
   "outputs": [],
   "source": [
    "driver = webdriver.Chrome(service=Service(ChromeDriverManager().install()))\n",
    "driver.get(\"https://google.com\")"
   ]
  },
  {
   "cell_type": "code",
   "execution_count": 10,
   "id": "66a8219f-8df8-42ea-a984-4cca6e9a411a",
   "metadata": {},
   "outputs": [
    {
     "name": "stdout",
     "output_type": "stream",
     "text": [
      "C:\\Users\\Luckman Khan\\anaconda3\\Lib\\site-packages\\chromedriver_binary\\chromedriver.exe\n"
     ]
    }
   ],
   "source": [
    "df = pd.read_csv('YTChannel.csv')\n",
    "df.head()\n",
    "path = chromedriver_filename\n",
    "url = 'https://www.youtube.com'\n",
    "print(path)\n",
    "\n",
    "\n"
   ]
  },
  {
   "cell_type": "code",
   "execution_count": 11,
   "id": "ae29db7a-640c-4c35-ad01-78cf6d4f2ff2",
   "metadata": {},
   "outputs": [
    {
     "ename": "SessionNotCreatedException",
     "evalue": "Message: session not created: This version of ChromeDriver only supports Chrome version 138\nCurrent browser version is 140.0.7339.80 with binary path C:\\Program Files\\Google\\Chrome\\Application\\chrome.exe; For documentation on this error, please visit: https://www.selenium.dev/documentation/webdriver/troubleshooting/errors#sessionnotcreatedexception\nStacktrace:\n\tGetHandleVerifier [0x0x7ff6e1876f95+76917]\n\tGetHandleVerifier [0x0x7ff6e1876ff0+77008]\n\t(No symbol) [0x0x7ff6e1629dea]\n\t(No symbol) [0x0x7ff6e166e1df]\n\t(No symbol) [0x0x7ff6e166d22b]\n\t(No symbol) [0x0x7ff6e1666e2a]\n\t(No symbol) [0x0x7ff6e1662675]\n\t(No symbol) [0x0x7ff6e16b5e9e]\n\t(No symbol) [0x0x7ff6e16b5630]\n\t(No symbol) [0x0x7ff6e16a8243]\n\t(No symbol) [0x0x7ff6e1671431]\n\t(No symbol) [0x0x7ff6e16721c3]\n\tGetHandleVerifier [0x0x7ff6e1b4d2cd+3051437]\n\tGetHandleVerifier [0x0x7ff6e1b47923+3028483]\n\tGetHandleVerifier [0x0x7ff6e1b658bd+3151261]\n\tGetHandleVerifier [0x0x7ff6e189185e+185662]\n\tGetHandleVerifier [0x0x7ff6e189971f+218111]\n\tGetHandleVerifier [0x0x7ff6e187fb14+112628]\n\tGetHandleVerifier [0x0x7ff6e187fcc9+113065]\n\tGetHandleVerifier [0x0x7ff6e1866c98+10616]\n\tBaseThreadInitThunk [0x0x7ffcd9dbe8d7+23]\n\tRtlUserThreadStart [0x0x7ffcdaae8d9c+44]\n",
     "output_type": "error",
     "traceback": [
      "\u001b[1;31m---------------------------------------------------------------------------\u001b[0m",
      "\u001b[1;31mSessionNotCreatedException\u001b[0m                Traceback (most recent call last)",
      "Cell \u001b[1;32mIn[11], line 2\u001b[0m\n\u001b[0;32m      1\u001b[0m service  \u001b[38;5;241m=\u001b[39mService(path)\n\u001b[1;32m----> 2\u001b[0m browser \u001b[38;5;241m=\u001b[39m webdriver\u001b[38;5;241m.\u001b[39mChrome(service\u001b[38;5;241m=\u001b[39mservice)\n\u001b[0;32m      3\u001b[0m browser\u001b[38;5;241m.\u001b[39mget(url)\n\u001b[0;32m      4\u001b[0m time\u001b[38;5;241m.\u001b[39msleep(\u001b[38;5;241m2\u001b[39m)\n",
      "File \u001b[1;32m~\\anaconda3\\Lib\\site-packages\\selenium\\webdriver\\chrome\\webdriver.py:47\u001b[0m, in \u001b[0;36mWebDriver.__init__\u001b[1;34m(self, options, service, keep_alive)\u001b[0m\n\u001b[0;32m     44\u001b[0m service \u001b[38;5;241m=\u001b[39m service \u001b[38;5;28;01mif\u001b[39;00m service \u001b[38;5;28;01melse\u001b[39;00m Service()\n\u001b[0;32m     45\u001b[0m options \u001b[38;5;241m=\u001b[39m options \u001b[38;5;28;01mif\u001b[39;00m options \u001b[38;5;28;01melse\u001b[39;00m Options()\n\u001b[1;32m---> 47\u001b[0m \u001b[38;5;28msuper\u001b[39m()\u001b[38;5;241m.\u001b[39m\u001b[38;5;21m__init__\u001b[39m(\n\u001b[0;32m     48\u001b[0m     browser_name\u001b[38;5;241m=\u001b[39mDesiredCapabilities\u001b[38;5;241m.\u001b[39mCHROME[\u001b[38;5;124m\"\u001b[39m\u001b[38;5;124mbrowserName\u001b[39m\u001b[38;5;124m\"\u001b[39m],\n\u001b[0;32m     49\u001b[0m     vendor_prefix\u001b[38;5;241m=\u001b[39m\u001b[38;5;124m\"\u001b[39m\u001b[38;5;124mgoog\u001b[39m\u001b[38;5;124m\"\u001b[39m,\n\u001b[0;32m     50\u001b[0m     options\u001b[38;5;241m=\u001b[39moptions,\n\u001b[0;32m     51\u001b[0m     service\u001b[38;5;241m=\u001b[39mservice,\n\u001b[0;32m     52\u001b[0m     keep_alive\u001b[38;5;241m=\u001b[39mkeep_alive,\n\u001b[0;32m     53\u001b[0m )\n",
      "File \u001b[1;32m~\\anaconda3\\Lib\\site-packages\\selenium\\webdriver\\chromium\\webdriver.py:69\u001b[0m, in \u001b[0;36mChromiumDriver.__init__\u001b[1;34m(self, browser_name, vendor_prefix, options, service, keep_alive)\u001b[0m\n\u001b[0;32m     60\u001b[0m executor \u001b[38;5;241m=\u001b[39m ChromiumRemoteConnection(\n\u001b[0;32m     61\u001b[0m     remote_server_addr\u001b[38;5;241m=\u001b[39m\u001b[38;5;28mself\u001b[39m\u001b[38;5;241m.\u001b[39mservice\u001b[38;5;241m.\u001b[39mservice_url,\n\u001b[0;32m     62\u001b[0m     browser_name\u001b[38;5;241m=\u001b[39mbrowser_name,\n\u001b[1;32m   (...)\u001b[0m\n\u001b[0;32m     65\u001b[0m     ignore_proxy\u001b[38;5;241m=\u001b[39moptions\u001b[38;5;241m.\u001b[39m_ignore_local_proxy,\n\u001b[0;32m     66\u001b[0m )\n\u001b[0;32m     68\u001b[0m \u001b[38;5;28;01mtry\u001b[39;00m:\n\u001b[1;32m---> 69\u001b[0m     \u001b[38;5;28msuper\u001b[39m()\u001b[38;5;241m.\u001b[39m\u001b[38;5;21m__init__\u001b[39m(command_executor\u001b[38;5;241m=\u001b[39mexecutor, options\u001b[38;5;241m=\u001b[39moptions)\n\u001b[0;32m     70\u001b[0m \u001b[38;5;28;01mexcept\u001b[39;00m \u001b[38;5;167;01mException\u001b[39;00m:\n\u001b[0;32m     71\u001b[0m     \u001b[38;5;28mself\u001b[39m\u001b[38;5;241m.\u001b[39mquit()\n",
      "File \u001b[1;32m~\\anaconda3\\Lib\\site-packages\\selenium\\webdriver\\remote\\webdriver.py:261\u001b[0m, in \u001b[0;36mWebDriver.__init__\u001b[1;34m(self, command_executor, keep_alive, file_detector, options, locator_converter, web_element_cls, client_config)\u001b[0m\n\u001b[0;32m    259\u001b[0m \u001b[38;5;28mself\u001b[39m\u001b[38;5;241m.\u001b[39m_authenticator_id \u001b[38;5;241m=\u001b[39m \u001b[38;5;28;01mNone\u001b[39;00m\n\u001b[0;32m    260\u001b[0m \u001b[38;5;28mself\u001b[39m\u001b[38;5;241m.\u001b[39mstart_client()\n\u001b[1;32m--> 261\u001b[0m \u001b[38;5;28mself\u001b[39m\u001b[38;5;241m.\u001b[39mstart_session(capabilities)\n\u001b[0;32m    262\u001b[0m \u001b[38;5;28mself\u001b[39m\u001b[38;5;241m.\u001b[39m_fedcm \u001b[38;5;241m=\u001b[39m FedCM(\u001b[38;5;28mself\u001b[39m)\n\u001b[0;32m    264\u001b[0m \u001b[38;5;28mself\u001b[39m\u001b[38;5;241m.\u001b[39m_websocket_connection \u001b[38;5;241m=\u001b[39m \u001b[38;5;28;01mNone\u001b[39;00m\n",
      "File \u001b[1;32m~\\anaconda3\\Lib\\site-packages\\selenium\\webdriver\\remote\\webdriver.py:362\u001b[0m, in \u001b[0;36mWebDriver.start_session\u001b[1;34m(self, capabilities)\u001b[0m\n\u001b[0;32m    360\u001b[0m caps \u001b[38;5;241m=\u001b[39m _create_caps(capabilities)\n\u001b[0;32m    361\u001b[0m \u001b[38;5;28;01mtry\u001b[39;00m:\n\u001b[1;32m--> 362\u001b[0m     response \u001b[38;5;241m=\u001b[39m \u001b[38;5;28mself\u001b[39m\u001b[38;5;241m.\u001b[39mexecute(Command\u001b[38;5;241m.\u001b[39mNEW_SESSION, caps)[\u001b[38;5;124m\"\u001b[39m\u001b[38;5;124mvalue\u001b[39m\u001b[38;5;124m\"\u001b[39m]\n\u001b[0;32m    363\u001b[0m     \u001b[38;5;28mself\u001b[39m\u001b[38;5;241m.\u001b[39msession_id \u001b[38;5;241m=\u001b[39m response\u001b[38;5;241m.\u001b[39mget(\u001b[38;5;124m\"\u001b[39m\u001b[38;5;124msessionId\u001b[39m\u001b[38;5;124m\"\u001b[39m)\n\u001b[0;32m    364\u001b[0m     \u001b[38;5;28mself\u001b[39m\u001b[38;5;241m.\u001b[39mcaps \u001b[38;5;241m=\u001b[39m response\u001b[38;5;241m.\u001b[39mget(\u001b[38;5;124m\"\u001b[39m\u001b[38;5;124mcapabilities\u001b[39m\u001b[38;5;124m\"\u001b[39m)\n",
      "File \u001b[1;32m~\\anaconda3\\Lib\\site-packages\\selenium\\webdriver\\remote\\webdriver.py:454\u001b[0m, in \u001b[0;36mWebDriver.execute\u001b[1;34m(self, driver_command, params)\u001b[0m\n\u001b[0;32m    451\u001b[0m response \u001b[38;5;241m=\u001b[39m cast(RemoteConnection, \u001b[38;5;28mself\u001b[39m\u001b[38;5;241m.\u001b[39mcommand_executor)\u001b[38;5;241m.\u001b[39mexecute(driver_command, params)\n\u001b[0;32m    453\u001b[0m \u001b[38;5;28;01mif\u001b[39;00m response:\n\u001b[1;32m--> 454\u001b[0m     \u001b[38;5;28mself\u001b[39m\u001b[38;5;241m.\u001b[39merror_handler\u001b[38;5;241m.\u001b[39mcheck_response(response)\n\u001b[0;32m    455\u001b[0m     response[\u001b[38;5;124m\"\u001b[39m\u001b[38;5;124mvalue\u001b[39m\u001b[38;5;124m\"\u001b[39m] \u001b[38;5;241m=\u001b[39m \u001b[38;5;28mself\u001b[39m\u001b[38;5;241m.\u001b[39m_unwrap_value(response\u001b[38;5;241m.\u001b[39mget(\u001b[38;5;124m\"\u001b[39m\u001b[38;5;124mvalue\u001b[39m\u001b[38;5;124m\"\u001b[39m, \u001b[38;5;28;01mNone\u001b[39;00m))\n\u001b[0;32m    456\u001b[0m     \u001b[38;5;28;01mreturn\u001b[39;00m response\n",
      "File \u001b[1;32m~\\anaconda3\\Lib\\site-packages\\selenium\\webdriver\\remote\\errorhandler.py:232\u001b[0m, in \u001b[0;36mErrorHandler.check_response\u001b[1;34m(self, response)\u001b[0m\n\u001b[0;32m    230\u001b[0m         alert_text \u001b[38;5;241m=\u001b[39m value[\u001b[38;5;124m\"\u001b[39m\u001b[38;5;124malert\u001b[39m\u001b[38;5;124m\"\u001b[39m]\u001b[38;5;241m.\u001b[39mget(\u001b[38;5;124m\"\u001b[39m\u001b[38;5;124mtext\u001b[39m\u001b[38;5;124m\"\u001b[39m)\n\u001b[0;32m    231\u001b[0m     \u001b[38;5;28;01mraise\u001b[39;00m exception_class(message, screen, stacktrace, alert_text)  \u001b[38;5;66;03m# type: ignore[call-arg]  # mypy is not smart enough here\u001b[39;00m\n\u001b[1;32m--> 232\u001b[0m \u001b[38;5;28;01mraise\u001b[39;00m exception_class(message, screen, stacktrace)\n",
      "\u001b[1;31mSessionNotCreatedException\u001b[0m: Message: session not created: This version of ChromeDriver only supports Chrome version 138\nCurrent browser version is 140.0.7339.80 with binary path C:\\Program Files\\Google\\Chrome\\Application\\chrome.exe; For documentation on this error, please visit: https://www.selenium.dev/documentation/webdriver/troubleshooting/errors#sessionnotcreatedexception\nStacktrace:\n\tGetHandleVerifier [0x0x7ff6e1876f95+76917]\n\tGetHandleVerifier [0x0x7ff6e1876ff0+77008]\n\t(No symbol) [0x0x7ff6e1629dea]\n\t(No symbol) [0x0x7ff6e166e1df]\n\t(No symbol) [0x0x7ff6e166d22b]\n\t(No symbol) [0x0x7ff6e1666e2a]\n\t(No symbol) [0x0x7ff6e1662675]\n\t(No symbol) [0x0x7ff6e16b5e9e]\n\t(No symbol) [0x0x7ff6e16b5630]\n\t(No symbol) [0x0x7ff6e16a8243]\n\t(No symbol) [0x0x7ff6e1671431]\n\t(No symbol) [0x0x7ff6e16721c3]\n\tGetHandleVerifier [0x0x7ff6e1b4d2cd+3051437]\n\tGetHandleVerifier [0x0x7ff6e1b47923+3028483]\n\tGetHandleVerifier [0x0x7ff6e1b658bd+3151261]\n\tGetHandleVerifier [0x0x7ff6e189185e+185662]\n\tGetHandleVerifier [0x0x7ff6e189971f+218111]\n\tGetHandleVerifier [0x0x7ff6e187fb14+112628]\n\tGetHandleVerifier [0x0x7ff6e187fcc9+113065]\n\tGetHandleVerifier [0x0x7ff6e1866c98+10616]\n\tBaseThreadInitThunk [0x0x7ffcd9dbe8d7+23]\n\tRtlUserThreadStart [0x0x7ffcdaae8d9c+44]\n"
     ]
    }
   ],
   "source": [
    "service  =Service(path)\n",
    "browser = webdriver.Chrome(service=service)\n",
    "browser.get(url)\n",
    "time.sleep(2)\n",
    "\n",
    "data = []\n",
    "\n",
    "for link in tqdm(df['video_link']):\n",
    " \n",
    "    browser.get(link)\n",
    "    time.sleep(5)\n",
    "    \n",
    "    soup = BeautifulSoup(browser.page_source, 'html.parser')\n",
    "    \n",
    "    try:\n",
    "        title = soup.find_all('yt-formatted-string', class_ = 'style-scope ytd-video-primary-info-renderer')[0].text\n",
    "    except:\n",
    "        title = np.nan\n",
    "    try:\n",
    "        view = soup.find('span', class_ = 'view-count style-scope ytd-video-view-count-renderer').text\n",
    "    except:\n",
    "        view = np.nan\n",
    "    try:\n",
    "        date_time = soup.find_all('yt-formatted-string', class_ = 'style-scope ytd-video-primary-info-renderer')[1].text\n",
    "    except:\n",
    "        date_time = np.nan\n",
    "    try:\n",
    "        like_divs = soup.find_all('div', class_=\"yt-spec-button-shape-next__button-text-content\")\n",
    "        # Find first one that looks like a count (e.g., contains \"K\" or is numeric)\n",
    "        for div in like_divs:\n",
    "         text = div.text.strip()\n",
    "         if text and (\"K\" in text or \"M\" in text or text.isdigit()):\n",
    "            like = text\n",
    "            break\n",
    "         else:\n",
    "          like = np.nan  # If no match found\n",
    "    except:\n",
    "     like = np.nan\n",
    "    try:\n",
    "        description = soup.find('span', class_ = 'yt-core-attributed-string--link-inherit-color').text\n",
    "    except:\n",
    "        description = np.nan\n",
    "    \n",
    "    data.append([title, date_time, like, view, link, description])\n",
    "\n",
    "\n",
    "#Creating and Saving the dataframe\n",
    "df = pd.DataFrame(data, columns = ['title' , 'date_time', 'likes', 'views', 'link' , 'description'])\n",
    "df.to_csv('GFG.csv', index = False)"
   ]
  },
  {
   "cell_type": "code",
   "execution_count": 4,
   "id": "928af51c-d62e-4278-99d5-d4e0277e05c5",
   "metadata": {},
   "outputs": [
    {
     "name": "stdout",
     "output_type": "stream",
     "text": [
      "Requirement already satisfied: webdriver-manager in c:\\users\\luckman khan\\anaconda3\\lib\\site-packages (4.0.2)\n",
      "Requirement already satisfied: requests in c:\\users\\luckman khan\\anaconda3\\lib\\site-packages (from webdriver-manager) (2.32.3)\n",
      "Requirement already satisfied: python-dotenv in c:\\users\\luckman khan\\anaconda3\\lib\\site-packages (from webdriver-manager) (1.1.0)\n",
      "Requirement already satisfied: packaging in c:\\users\\luckman khan\\anaconda3\\lib\\site-packages (from webdriver-manager) (24.2)\n",
      "Requirement already satisfied: charset-normalizer<4,>=2 in c:\\users\\luckman khan\\anaconda3\\lib\\site-packages (from requests->webdriver-manager) (3.3.2)\n",
      "Requirement already satisfied: idna<4,>=2.5 in c:\\users\\luckman khan\\anaconda3\\lib\\site-packages (from requests->webdriver-manager) (3.7)\n",
      "Requirement already satisfied: urllib3<3,>=1.21.1 in c:\\users\\luckman khan\\anaconda3\\lib\\site-packages (from requests->webdriver-manager) (2.4.0)\n",
      "Requirement already satisfied: certifi>=2017.4.17 in c:\\users\\luckman khan\\anaconda3\\lib\\site-packages (from requests->webdriver-manager) (2025.8.3)\n",
      "Note: you may need to restart the kernel to use updated packages.\n"
     ]
    }
   ],
   "source": [
    "pip install webdriver-manager\n"
   ]
  },
  {
   "cell_type": "code",
   "execution_count": null,
   "id": "4ca85cf9-354f-4120-bb4b-e52890278050",
   "metadata": {},
   "outputs": [],
   "source": []
  }
 ],
 "metadata": {
  "kernelspec": {
   "display_name": "Python 3 (ipykernel)",
   "language": "python",
   "name": "python3"
  },
  "language_info": {
   "codemirror_mode": {
    "name": "ipython",
    "version": 3
   },
   "file_extension": ".py",
   "mimetype": "text/x-python",
   "name": "python",
   "nbconvert_exporter": "python",
   "pygments_lexer": "ipython3",
   "version": "3.13.5"
  }
 },
 "nbformat": 4,
 "nbformat_minor": 5
}
